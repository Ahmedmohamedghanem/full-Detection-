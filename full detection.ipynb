import cv2
import cvzone
import math
import time
import os
from datetime import datetime
from ultralytics import YOLO

# ========== Load Model ==========
model = YOLO("yolov8n.pt")

# ========== Load Class Names ==========
classnames = []
with open(r'classes.txt', 'r') as f:
    classnames = f.read().splitlines()

# ========== Load Video ==========
cap = cv2.VideoCapture(r'full.mp4')

frame_count = 0
fall_detected_sent = False  # Flag to prevent repeated messages

while True:
    start = time.time()
    ret, frame = cap.read()
    if not ret:
        break

    frame_count += 1
    if frame_count % 2 != 0:
        continue

    frame = cv2.resize(frame, (640, 480))
    results = model(frame, verbose=False)[0]

    for box in results.boxes:
        x1, y1, x2, y2 = map(int, box.xyxy[0])
        confidence = float(box.conf[0])
        class_id = int(box.cls[0])
        class_name = classnames[class_id]
        conf = math.ceil(confidence * 100)

        height = y2 - y1
        width = x2 - x1
        threshold = height - width

        if conf > 80 and class_name == 'person':
            cvzone.cornerRect(frame, [x1, y1, width, height], l=30, rt=6)
            cvzone.putTextRect(frame, f'{class_name}', [x1 + 8, y1 - 12], thickness=2, scale=2)

            if threshold < 0 and not fall_detected_sent:
                cvzone.putTextRect(frame, 'Fall Detected', [x1, y1 - 40], thickness=2, scale=2)
                fall_detected_sent = True

    cv2.imshow("Frame", frame)

    if cv2.waitKey(1) & 0xFF == ord('t'):
        break

    end = time.time()
    print(f"Frame Time: {end - start:.3f} sec")

cap.release()
cv2.destroyAllWindows()
